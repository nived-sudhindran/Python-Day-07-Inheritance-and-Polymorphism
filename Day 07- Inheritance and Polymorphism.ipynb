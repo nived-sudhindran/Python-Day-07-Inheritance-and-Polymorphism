{
 "cells": [
  {
   "cell_type": "markdown",
   "id": "f58518fa-944c-4822-942c-f0e587a1a78d",
   "metadata": {},
   "source": [
    "### ○ Create a Vehicle base class, and derive Car and Bike classes from it."
   ]
  },
  {
   "cell_type": "code",
   "execution_count": 51,
   "id": "83373ce1-ef77-460e-881e-145961625dda",
   "metadata": {},
   "outputs": [
    {
     "name": "stdout",
     "output_type": "stream",
     "text": [
      "Car Brand : KIA\n",
      "Car Model : SELTOS\n",
      "\n",
      "Bike Brand : Bajaj\n",
      "Bike Model : Dominar 400\n"
     ]
    }
   ],
   "source": [
    "class Vehicle:                       # Parent class Vehicle\n",
    "    def __init__(self, brand, model):\n",
    "        self.brand = brand  \n",
    "        self.model = model \n",
    "\n",
    "class Car(Vehicle):                  # Car inherits from Vehicle\n",
    "    def __init__(self, brand, model):\n",
    "        super().__init__(brand, model)\n",
    "\n",
    "class Bike(Vehicle):                 # Bike inherits from Vehicle\n",
    "    def __init__(self, brand, model):\n",
    "        super().__init__(brand, model)\n",
    "\n",
    "myCar=Car(\"KIA\",\"SELTOS\")\n",
    "print(\"Car Brand :\",myCar.brand)\n",
    "print(\"Car Model :\",myCar.model)\n",
    "\n",
    "myBike=Bike(\"Bajaj\",\"Dominar 400\")\n",
    "print(\"\\nBike Brand :\",myBike.brand)\n",
    "print(\"Bike Model :\",myBike.model)\n"
   ]
  },
  {
   "cell_type": "markdown",
   "id": "ed721c5e-4265-4c49-a94f-8379ebd55138",
   "metadata": {},
   "source": [
    "### ○ Implement polymorphism by creating a method fuel_efficiency() that behaves differently for each derived class."
   ]
  },
  {
   "cell_type": "code",
   "execution_count": 53,
   "id": "f46621ee-5ca1-4690-8864-c80275029b88",
   "metadata": {},
   "outputs": [
    {
     "name": "stdout",
     "output_type": "stream",
     "text": [
      "Details of the Car is as follows\n",
      "Brand : KIA\n",
      "Model : SELTOS\n",
      "\n",
      "Details of the Bike is as follows\n",
      "Brand : Bajaj\n",
      "Model : Dominar 400\n"
     ]
    }
   ],
   "source": [
    "class Vehicle:\n",
    "    def __init__(self, brand, model):\n",
    "        self.brand = brand  \n",
    "        self.model = model \n",
    "\n",
    "class Car(Vehicle):                                     # Car inherits from Vehicle\n",
    "    def __init__(self, brand, model):\n",
    "        super().__init__(brand, model)\n",
    "        \n",
    "    def showDetails(self):                              # Function Polymorphism inside the child class Car\n",
    "        print(\"Details of the Car is as follows\")\n",
    "        print(\"Brand :\",self.brand)\n",
    "        print(\"Model :\",self.model)\n",
    "\n",
    "class Bike(Vehicle):                                    # Bike inherits from Vehicle\n",
    "    def __init__(self, brand, model):\n",
    "        super().__init__(brand, model)\n",
    "        \n",
    "    def showDetails(self):                              # Function Polymorphism inside the child class Bike\n",
    "        print(\"\\nDetails of the Bike is as follows\")\n",
    "        print(\"Brand :\",self.brand)\n",
    "        print(\"Model :\",self.model)\n",
    "\n",
    "myCar=Car(\"KIA\",\"SELTOS\")\n",
    "myCar.showDetails()\n",
    "\n",
    "myBike=Bike(\"Bajaj\",\"Dominar 400\")\n",
    "myBike.showDetails()\n",
    "\n",
    "    "
   ]
  },
  {
   "cell_type": "code",
   "execution_count": null,
   "id": "8f9b8059-ccca-4e14-aa27-e9695d98952f",
   "metadata": {},
   "outputs": [],
   "source": []
  },
  {
   "cell_type": "code",
   "execution_count": null,
   "id": "4b7708e3-ae3b-4123-a685-573c7097c117",
   "metadata": {},
   "outputs": [],
   "source": []
  },
  {
   "cell_type": "code",
   "execution_count": null,
   "id": "5ee8dc62-23c9-4bf2-9eeb-c4b2c870f7be",
   "metadata": {},
   "outputs": [],
   "source": []
  },
  {
   "cell_type": "code",
   "execution_count": null,
   "id": "da86e1d7-9edc-4cf3-83c9-e357358ffd26",
   "metadata": {},
   "outputs": [],
   "source": []
  },
  {
   "cell_type": "code",
   "execution_count": null,
   "id": "4608d47d-feaf-4d11-854d-4bae5baa79b8",
   "metadata": {},
   "outputs": [],
   "source": []
  },
  {
   "cell_type": "code",
   "execution_count": null,
   "id": "1a23b427-8fd3-49bc-a367-4deb24c2ccab",
   "metadata": {},
   "outputs": [],
   "source": []
  },
  {
   "cell_type": "code",
   "execution_count": null,
   "id": "6e9cd418-5d8d-41dc-b9d7-f16244fbf9b6",
   "metadata": {},
   "outputs": [],
   "source": [
    "class vehicle:\n",
    "    def __init__(self, distance, fuel_consumed):\n",
    "        self.distance = distance  \n",
    "        self.fuel_consumed = fuel_consumed \n",
    "\n",
    "class Car(vehicle):\n",
    "    def __init__(self,distance, fuel_consumed):\n",
    "        super().__init__(distance, fuel_consumed)\n",
    "    def fuel_efficiency(self):\n",
    "        print(\"\\nFuel efficiency of Car is\", self.distance / self.fuel_consumed)\n",
    "\n",
    "class Bike(vehicle):    \n",
    "    def __init__(self,distance, fuel_consumed):\n",
    "        super().__init__(distance, fuel_consumed)\n",
    "    def fuel_efficiency(self):\n",
    "        print(\"\\nFuel efficiency of Bike is\", self.distance / self.fuel_consumed)\n",
    "\n",
    "myCar=Car(100,4)\n",
    "myCar.fuel_efficiency()\n",
    "\n",
    "myBike=Bike(100,2)\n",
    "myBike.fuel_efficiency()"
   ]
  }
 ],
 "metadata": {
  "kernelspec": {
   "display_name": "Python 3 (ipykernel)",
   "language": "python",
   "name": "python3"
  },
  "language_info": {
   "codemirror_mode": {
    "name": "ipython",
    "version": 3
   },
   "file_extension": ".py",
   "mimetype": "text/x-python",
   "name": "python",
   "nbconvert_exporter": "python",
   "pygments_lexer": "ipython3",
   "version": "3.12.7"
  }
 },
 "nbformat": 4,
 "nbformat_minor": 5
}
